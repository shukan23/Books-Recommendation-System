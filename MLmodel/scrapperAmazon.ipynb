{
 "cells": [
  {
   "cell_type": "code",
   "execution_count": 1,
   "id": "1e5d37ec",
   "metadata": {},
   "outputs": [],
   "source": [
    "import csv\n",
    "from bs4 import BeautifulSoup\n",
    "import requests\n",
    "from tqdm import tqdm"
   ]
  },
  {
   "cell_type": "code",
   "execution_count": 2,
   "id": "c1be73ff",
   "metadata": {},
   "outputs": [],
   "source": [
    "header ={\"User-Agent\": \"Mozilla/5.0 (X11; Linux x86_64) AppleWebKit/537.36 (KHTML, like Gecko) Chrome/107.0.0.0 Safari/537.36\"} \n",
    "amazon = 'https://www.amazon.in'\n",
    "amazon_sk = 'https://www.amazon.in/s?k='"
   ]
  },
  {
   "cell_type": "code",
   "execution_count": 3,
   "id": "261a6af4",
   "metadata": {},
   "outputs": [],
   "source": [
    "def get_amazon_url(title):\n",
    "    html_data = requests.get(amazon_sk+title,headers=header).text\n",
    "    soup = BeautifulSoup(html_data, 'lxml')\n",
    "    items = soup.find_all('div', {'data-component-type': 's-search-result'})\n",
    "    link = items[0].h2.find_all('a')\n",
    "    return amazon+link[0].get('href')"
   ]
  },
  {
   "cell_type": "code",
   "execution_count": 4,
   "id": "1211e2cb",
   "metadata": {},
   "outputs": [],
   "source": [
    "def add_data(title):\n",
    "    try:\n",
    "        product_page = get_amazon_url(title)\n",
    "        ht_data = requests.get(product_page, headers=header).text\n",
    "        soup = BeautifulSoup(ht_data, 'lxml')\n",
    "        f1, i1 = get_price(soup)\n",
    "        f2, i2 = get_ratings(soup)\n",
    "        f3, i3 = get_reviews(soup)\n",
    "        f4, i4 = get_description(soup)\n",
    "        \n",
    "        if(f1 and f2 and f3 and f4):\n",
    "            return 1, [i1,i2,i3], i4\n",
    "    except:\n",
    "        return 0, None"
   ]
  },
  {
   "cell_type": "code",
   "execution_count": 5,
   "id": "1421e59a",
   "metadata": {},
   "outputs": [],
   "source": [
    "def get_price(soup):\n",
    "    try:\n",
    "        price_box = soup.find_all('div', {'id':'desktop_buybox'})\n",
    "        price = price_box[0].h5.find_all('span', {'id':'price'})[0].text\n",
    "        return 1, price\n",
    "    except:\n",
    "        return 0, None"
   ]
  },
  {
   "cell_type": "code",
   "execution_count": 6,
   "id": "28917968",
   "metadata": {},
   "outputs": [],
   "source": [
    "def get_ratings(soup):\n",
    "    try:\n",
    "        rev = soup.find_all('div', {'id':'averageCustomerReviews'})\n",
    "        stars = rev[0].find_all('a')\n",
    "        return 1, str([stars[0].text.strip(), stars[1].text.strip()])\n",
    "    except:\n",
    "        return 0, None"
   ]
  },
  {
   "cell_type": "code",
   "execution_count": 7,
   "id": "f0985d49",
   "metadata": {},
   "outputs": [],
   "source": [
    "def get_description(soup):\n",
    "    try:\n",
    "        desc = soup.find_all('div', {'id':'bookDescription_feature_div'})\n",
    "        description = desc[0].text.strip()\n",
    "        return 1, description\n",
    "    except:\n",
    "        return 0, None"
   ]
  },
  {
   "cell_type": "code",
   "execution_count": 8,
   "id": "f1256e8e",
   "metadata": {},
   "outputs": [],
   "source": [
    "def get_reviews(soup):\n",
    "    try:\n",
    "        reviews = soup.find_all('div', {'data-hook':'review'})\n",
    "        review_list = []\n",
    "        for review_div in reviews:\n",
    "            review_list.append(review_div.find_all('div', {'data-hook':'review-collapsed'})[0].text.strip(\"\\n\"))\n",
    "            if(len(review_list)>=3):\n",
    "                review_list = review_list[:3]\n",
    "        return 1, str(review_list)\n",
    "    except:\n",
    "        return 0, None"
   ]
  },
  {
   "cell_type": "code",
   "execution_count": 13,
   "id": "059c04d1",
   "metadata": {},
   "outputs": [
    {
     "name": "stdout",
     "output_type": "stream",
     "text": [
      "['ISBN', 'Book-Title', 'Book-Author', 'Year-Of-Publication', 'Publisher', 'Image-URL-S', 'Image-URL-M', 'Image-URL-L']\n",
      "<class 'list'>\n",
      "\n",
      "==================================\n",
      "\n",
      "['0195153448', 'Classical Mythology', 'Mark P. O. Morford', '2002', 'Oxford University Press', 'http://images.amazon.com/images/P/0195153448.01.THUMBZZZ.jpg', 'http://images.amazon.com/images/P/0195153448.01.MZZZZZZZ.jpg', 'http://images.amazon.com/images/P/0195153448.01.LZZZZZZZ.jpg']\n",
      "<class 'list'>\n",
      "\n",
      "==================================\n",
      "\n",
      "['0002005018', 'Clara Callan', 'Richard Bruce Wright', '2001', 'HarperFlamingo Canada', 'http://images.amazon.com/images/P/0002005018.01.THUMBZZZ.jpg', 'http://images.amazon.com/images/P/0002005018.01.MZZZZZZZ.jpg', 'http://images.amazon.com/images/P/0002005018.01.LZZZZZZZ.jpg']\n",
      "<class 'list'>\n",
      "\n",
      "==================================\n",
      "\n",
      "['0060973129', 'Decision in Normandy', \"Carlo D'Este\", '1991', 'HarperPerennial', 'http://images.amazon.com/images/P/0060973129.01.THUMBZZZ.jpg', 'http://images.amazon.com/images/P/0060973129.01.MZZZZZZZ.jpg', 'http://images.amazon.com/images/P/0060973129.01.LZZZZZZZ.jpg']\n",
      "<class 'list'>\n",
      "\n",
      "==================================\n",
      "\n",
      "['0374157065', 'Flu: The Story of the Great Influenza Pandemic of 1918 and the Search for the Virus That Caused It', 'Gina Bari Kolata', '1999', 'Farrar Straus Giroux', 'http://images.amazon.com/images/P/0374157065.01.THUMBZZZ.jpg', 'http://images.amazon.com/images/P/0374157065.01.MZZZZZZZ.jpg', 'http://images.amazon.com/images/P/0374157065.01.LZZZZZZZ.jpg']\n",
      "<class 'list'>\n",
      "\n",
      "==================================\n",
      "\n"
     ]
    }
   ],
   "source": [
    "count = 0;\n",
    "with open('books.csv', newline='') as f:\n",
    "    reader = csv.reader(f, delimiter=';')\n",
    "    for row in reader:\n",
    "        if(count>4):\n",
    "            break\n",
    "        print(row)\n",
    "        print(type(row))\n",
    "        print(\"\\n==================================\\n\")\n",
    "        count+=1"
   ]
  },
  {
   "cell_type": "code",
   "execution_count": 12,
   "id": "a966afd0",
   "metadata": {},
   "outputs": [
    {
     "name": "stderr",
     "output_type": "stream",
     "text": [
      "2it [00:06,  3.25s/it]"
     ]
    },
    {
     "name": "stdout",
     "output_type": "stream",
     "text": [
      "Classical Mythology :: STATUS : OK\n"
     ]
    },
    {
     "name": "stderr",
     "output_type": "stream",
     "text": [
      "\r",
      "3it [00:11,  4.06s/it]"
     ]
    },
    {
     "name": "stdout",
     "output_type": "stream",
     "text": [
      "Clara Callan :: STATUS : OK\n"
     ]
    },
    {
     "name": "stderr",
     "output_type": "stream",
     "text": [
      "5it [00:23,  5.13s/it]"
     ]
    },
    {
     "name": "stdout",
     "output_type": "stream",
     "text": [
      "Flu: The Story of the Great Influenza Pandemic of 1918 and the Search for the Virus That Caused It :: STATUS : OK\n"
     ]
    },
    {
     "name": "stderr",
     "output_type": "stream",
     "text": [
      "\r",
      "6it [00:28,  5.21s/it]"
     ]
    },
    {
     "name": "stdout",
     "output_type": "stream",
     "text": [
      "The Mummies of Urumchi :: STATUS : OK\n"
     ]
    },
    {
     "name": "stderr",
     "output_type": "stream",
     "text": [
      "\r",
      "7it [00:35,  5.64s/it]"
     ]
    },
    {
     "name": "stdout",
     "output_type": "stream",
     "text": [
      "The Kitchen God's Wife :: STATUS : OK\n"
     ]
    },
    {
     "name": "stderr",
     "output_type": "stream",
     "text": [
      "\r",
      "8it [00:41,  5.85s/it]"
     ]
    },
    {
     "name": "stdout",
     "output_type": "stream",
     "text": [
      "What If?: The World's Foremost Military Historians Imagine What Might Have Been :: STATUS : OK\n"
     ]
    },
    {
     "name": "stderr",
     "output_type": "stream",
     "text": [
      "\r",
      "9it [00:47,  5.98s/it]"
     ]
    },
    {
     "name": "stdout",
     "output_type": "stream",
     "text": [
      "PLEADING GUILTY :: STATUS : OK\n"
     ]
    },
    {
     "name": "stderr",
     "output_type": "stream",
     "text": [
      "11it [01:00,  6.18s/it]"
     ]
    },
    {
     "name": "stdout",
     "output_type": "stream",
     "text": [
      "Where You'll Find Me: And Other Stories :: STATUS : OK\n"
     ]
    },
    {
     "name": "stderr",
     "output_type": "stream",
     "text": [
      "14it [01:16,  5.79s/it]"
     ]
    },
    {
     "name": "stdout",
     "output_type": "stream",
     "text": [
      "The Middle Stories :: STATUS : OK\n"
     ]
    },
    {
     "name": "stderr",
     "output_type": "stream",
     "text": [
      "16it [01:29,  6.05s/it]"
     ]
    },
    {
     "name": "stdout",
     "output_type": "stream",
     "text": [
      "A Second Chicken Soup for the Woman's Soul (Chicken Soup for the Soul Series) :: STATUS : OK\n"
     ]
    },
    {
     "name": "stderr",
     "output_type": "stream",
     "text": [
      "\r",
      "17it [01:35,  6.07s/it]"
     ]
    },
    {
     "name": "stdout",
     "output_type": "stream",
     "text": [
      "The Witchfinder (Amos Walker Mystery Series) :: STATUS : OK\n"
     ]
    },
    {
     "name": "stderr",
     "output_type": "stream",
     "text": [
      "\r",
      "18it [01:41,  6.01s/it]"
     ]
    },
    {
     "name": "stdout",
     "output_type": "stream",
     "text": [
      "More Cunning Than Man: A Social History of Rats and Man :: STATUS : OK\n"
     ]
    },
    {
     "name": "stderr",
     "output_type": "stream",
     "text": [
      "20it [01:53,  6.08s/it]"
     ]
    },
    {
     "name": "stdout",
     "output_type": "stream",
     "text": [
      "The Testament :: STATUS : OK\n"
     ]
    },
    {
     "name": "stderr",
     "output_type": "stream",
     "text": [
      "23it [02:10,  5.89s/it]"
     ]
    },
    {
     "name": "stdout",
     "output_type": "stream",
     "text": [
      "New Vegetarian: Bold and Beautiful Recipes for Every Occasion :: STATUS : OK\n"
     ]
    },
    {
     "name": "stderr",
     "output_type": "stream",
     "text": [
      "25it [02:21,  5.71s/it]"
     ]
    },
    {
     "name": "stdout",
     "output_type": "stream",
     "text": [
      "Mary-Kate &amp; Ashley Switching Goals (Mary-Kate and Ashley Starring in) :: STATUS : OK\n"
     ]
    },
    {
     "name": "stderr",
     "output_type": "stream",
     "text": [
      "27it [02:32,  5.70s/it]"
     ]
    },
    {
     "name": "stdout",
     "output_type": "stream",
     "text": [
      "Flood : Mississippi 1927 :: STATUS : OK\n"
     ]
    },
    {
     "name": "stderr",
     "output_type": "stream",
     "text": [
      "\r",
      "28it [02:38,  5.75s/it]"
     ]
    },
    {
     "name": "stdout",
     "output_type": "stream",
     "text": [
      "Wild Animus :: STATUS : OK\n"
     ]
    },
    {
     "name": "stderr",
     "output_type": "stream",
     "text": [
      "31it [02:56,  5.91s/it]"
     ]
    },
    {
     "name": "stdout",
     "output_type": "stream",
     "text": [
      "OUT OF THE SILENT PLANET :: STATUS : OK\n"
     ]
    },
    {
     "name": "stderr",
     "output_type": "stream",
     "text": [
      "\r",
      "32it [03:02,  5.93s/it]"
     ]
    },
    {
     "name": "stdout",
     "output_type": "stream",
     "text": [
      "Prague : A Novel :: STATUS : OK\n"
     ]
    },
    {
     "name": "stderr",
     "output_type": "stream",
     "text": [
      "38it [03:34,  5.43s/it]"
     ]
    },
    {
     "name": "stdout",
     "output_type": "stream",
     "text": [
      "Lying Awake :: STATUS : OK\n"
     ]
    },
    {
     "name": "stderr",
     "output_type": "stream",
     "text": [
      "\r",
      "39it [03:41,  5.86s/it]"
     ]
    },
    {
     "name": "stdout",
     "output_type": "stream",
     "text": [
      "To Kill a Mockingbird :: STATUS : OK\n"
     ]
    },
    {
     "name": "stderr",
     "output_type": "stream",
     "text": [
      "\r",
      "40it [03:48,  6.13s/it]"
     ]
    },
    {
     "name": "stdout",
     "output_type": "stream",
     "text": [
      "Seabiscuit: An American Legend :: STATUS : OK\n"
     ]
    },
    {
     "name": "stderr",
     "output_type": "stream",
     "text": [
      "\r",
      "41it [03:53,  5.92s/it]"
     ]
    },
    {
     "name": "stdout",
     "output_type": "stream",
     "text": [
      "Pigs in Heaven :: STATUS : OK\n"
     ]
    },
    {
     "name": "stderr",
     "output_type": "stream",
     "text": [
      "43it [04:05,  5.92s/it]"
     ]
    },
    {
     "name": "stdout",
     "output_type": "stream",
     "text": [
      "Pride and Prejudice :: STATUS : OK\n"
     ]
    },
    {
     "name": "stderr",
     "output_type": "stream",
     "text": [
      "47it [04:28,  5.86s/it]"
     ]
    },
    {
     "name": "stdout",
     "output_type": "stream",
     "text": [
      "I'll Be Seeing You :: STATUS : OK\n"
     ]
    },
    {
     "name": "stderr",
     "output_type": "stream",
     "text": [
      "50it [04:47,  6.12s/it]"
     ]
    },
    {
     "name": "stdout",
     "output_type": "stream",
     "text": [
      "Purity in Death :: STATUS : OK\n"
     ]
    },
    {
     "name": "stderr",
     "output_type": "stream",
     "text": [
      "\r",
      "51it [04:53,  6.15s/it]"
     ]
    },
    {
     "name": "stdout",
     "output_type": "stream",
     "text": [
      "This Year It Will Be Different: And Other Stories :: STATUS : OK\n"
     ]
    },
    {
     "name": "stderr",
     "output_type": "stream",
     "text": [
      "53it [05:07,  6.58s/it]"
     ]
    },
    {
     "name": "stdout",
     "output_type": "stream",
     "text": [
      "Left Behind: A Novel of the Earth's Last Days (Left Behind #1) :: STATUS : OK\n"
     ]
    },
    {
     "name": "stderr",
     "output_type": "stream",
     "text": [
      "\r",
      "54it [05:13,  6.48s/it]"
     ]
    },
    {
     "name": "stdout",
     "output_type": "stream",
     "text": [
      "The Street Lawyer :: STATUS : OK\n"
     ]
    },
    {
     "name": "stderr",
     "output_type": "stream",
     "text": [
      "55it [05:20,  5.82s/it]"
     ]
    },
    {
     "name": "stdout",
     "output_type": "stream",
     "text": [
      "Love, Medicine and Miracles :: STATUS : OK\n"
     ]
    },
    {
     "name": "stderr",
     "output_type": "stream",
     "text": [
      "\n"
     ]
    }
   ],
   "source": [
    "w = open('books_v2.csv', 'w')\n",
    "desc = open('description.txt', 'w')\n",
    "new_books = csv.writer(w, delimiter=';')\n",
    "column_names = ['ISBN','Book-Title','Book-Author','Year-Of-Publication','Publisher','Image-URL-S','Image-URL-M','Image-URL-L','Price','Rating','Reviews']\n",
    "new_books.writerow(column_names)\n",
    "count = 0\n",
    "with open('books.csv', newline='', encoding='latin-1') as f:\n",
    "    reader = csv.reader(f, delimiter=';')\n",
    "    for row in tqdm(reader):\n",
    "        try:\n",
    "            if(count>30):\n",
    "                break\n",
    "            if(count==0):\n",
    "                count+=1\n",
    "            else:\n",
    "                title = row[1]\n",
    "                state, entry, description = add_data(title)\n",
    "                if(state):\n",
    "                    print(title+\" :: STATUS : OK\")\n",
    "                    count+=1\n",
    "                    row.extend(entry)\n",
    "                    new_books.writerow(row)\n",
    "                    desc.write(description+'\\n')\n",
    "                else:\n",
    "                    print(title+\" :: STATUS : INFO MISSING\")\n",
    "        except:\n",
    "            pass\n",
    "w.close()\n",
    "desc.close()"
   ]
  },
  {
   "cell_type": "code",
   "execution_count": 10,
   "id": "b80353eb",
   "metadata": {},
   "outputs": [],
   "source": []
  },
  {
   "cell_type": "code",
   "execution_count": null,
   "id": "7b042b59",
   "metadata": {},
   "outputs": [],
   "source": []
  }
 ],
 "metadata": {
  "kernelspec": {
   "display_name": "Python 3 (ipykernel)",
   "language": "python",
   "name": "python3"
  },
  "language_info": {
   "codemirror_mode": {
    "name": "ipython",
    "version": 3
   },
   "file_extension": ".py",
   "mimetype": "text/x-python",
   "name": "python",
   "nbconvert_exporter": "python",
   "pygments_lexer": "ipython3",
   "version": "3.10.6"
  }
 },
 "nbformat": 4,
 "nbformat_minor": 5
}
